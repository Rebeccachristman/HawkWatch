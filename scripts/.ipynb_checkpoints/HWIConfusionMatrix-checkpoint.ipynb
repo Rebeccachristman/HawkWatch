{
 "cells": [
  {
   "cell_type": "code",
   "execution_count": 1,
   "metadata": {},
   "outputs": [],
   "source": [
    "import pandas as pd\n",
    "import numpy as np\n",
    "\n",
    "#from datetime import timedelta\n",
    "import matplotlib.pyplot as plt\n",
    "import matplotlib\n",
    "import pickle\n",
    "\n",
    "from sklearn.model_selection import train_test_split\n",
    "from sklearn import datasets, linear_model\n",
    "from sklearn.model_selection import cross_val_score\n",
    "from sklearn.neighbors import KNeighborsClassifier\n",
    "\n",
    "from sklearn import preprocessing\n",
    "from sklearn import decomposition\n",
    "from sklearn import manifold\n",
    "\n",
    "from sklearn.svm import SVC\n",
    "from sklearn.ensemble import RandomForestClassifier\n",
    "from sklearn.neighbors import KNeighborsClassifier\n",
    "\n",
    "from sklearn.model_selection import KFold\n",
    "from sklearn.model_selection import GridSearchCV\n",
    "from sklearn.model_selection import cross_val_predict\n",
    "from sklearn.metrics import classification_report\n",
    "\n",
    "\n",
    "from sklearn.metrics import roc_curve, auc\n",
    "\n",
    "from sklearn.metrics import average_precision_score\n",
    "from sklearn.metrics import precision_recall_curve\n",
    "from sklearn.metrics import confusion_matrix\n",
    "\n",
    "from sklearn.metrics import classification_report, confusion_matrix\n",
    "from sklearn.metrics import mean_squared_error, r2_score\n",
    "from sklearn.metrics import accuracy_score\n",
    "\n",
    "matplotlib.style.use('ggplot') # Look Pretty"
   ]
  },
  {
   "cell_type": "code",
   "execution_count": 2,
   "metadata": {},
   "outputs": [
    {
     "name": "stdout",
     "output_type": "stream",
     "text": [
      "Load pickled model from file:  C:/Users/smith/Documents/Becky/HawkWatch/data/hwi_classifier_model.pkl\n"
     ]
    }
   ],
   "source": [
    "# load the pickled model\n",
    "#modelfile='C:/Users/smith/Documents/Becky/HawkWatch/data-bc/hwi_classifier_model.pkl'\n",
    "#modelfile='C:/Users/smith/Documents/Becky/HawkWatch/data-dm/hwi_classifier_model.pkl'\n",
    "modelfile='C:/Users/smith/Documents/Becky/HawkWatch/data/hwi_classifier_model.pkl'\n",
    "\n",
    "print(\"Load pickled model from file: \", modelfile)  \n",
    "model_pkl = open(modelfile, 'rb')\n",
    "clf = pickle.load(model_pkl)\n",
    "# Close the pickle instances\n",
    "model_pkl.close()\n"
   ]
  },
  {
   "cell_type": "code",
   "execution_count": 3,
   "metadata": {},
   "outputs": [
    {
     "name": "stdout",
     "output_type": "stream",
     "text": [
      "Input sequence data plus Label...\n",
      "   Carcass Dist  Obscuring Plants  NumObj     Size    Dist  Angle  Label\n",
      "0           1.0               3.0     0.0      NaN     NaN    NaN      0\n",
      "1           1.0               3.0     4.0  21672.0   482.0    9.0      0\n",
      "2           1.0               3.0     0.0      NaN     NaN    NaN      0\n",
      "3           1.0               3.0     1.0  17139.0  1218.0  -62.0      0\n",
      "4           1.0               3.0     6.0  66059.0   333.0    4.0      0\n"
     ]
    }
   ],
   "source": [
    "#File,Dir,Datetime,Camera,SeqNum,SeqLen,SeqNumDiff,Night,Mean,Std,TopCrop,BottomCrop,Carcass X,Carcass Y,Carcass Dist,\n",
    "#Carcass Size,Obscuring Plants,NumObj,DistRank,Size,X,Y,Dist,Angle,Label\n",
    "\n",
    "#filename='C:/Users/smith/Documents/Becky/HawkWatch/data-bc/tmp_labeled_data.csv'\n",
    "#filename='C:/Users/smith/Documents/Becky/HawkWatch/data-dm/tmp_labeled_data.csv'\n",
    "filename='C:/Users/smith/Documents/Becky/HawkWatch/data/tmp_labeled_data.csv'\n",
    "\n",
    "df_data = pd.read_csv(filename, sep=',', header=0)\n",
    "df_seq = df_data.drop(columns=['File', 'Dir', 'Datetime', 'Camera', 'SeqNum', 'SeqLen', 'SeqNumDiff', 'Night', 'Mean', 'Std', 'TopCrop', 'BottomCrop', 'Carcass X', 'Carcass Y', 'X', 'Y', 'DistRank'])\n",
    "#df_seq = df_seq.drop(columns=['Carcass Size'])\n",
    "\n",
    "print(\"Input sequence data plus Label...\")\n",
    "print(df_seq.head())\n",
    "\n"
   ]
  },
  {
   "cell_type": "code",
   "execution_count": 4,
   "metadata": {},
   "outputs": [
    {
     "data": {
      "text/plain": [
       "Carcass Dist        41973\n",
       "Obscuring Plants    41973\n",
       "NumObj              41973\n",
       "Size                32406\n",
       "Dist                32406\n",
       "Angle               32406\n",
       "Label               48330\n",
       "dtype: int64"
      ]
     },
     "execution_count": 4,
     "metadata": {},
     "output_type": "execute_result"
    }
   ],
   "source": [
    "df_seq.count()"
   ]
  },
  {
   "cell_type": "code",
   "execution_count": 5,
   "metadata": {},
   "outputs": [],
   "source": [
    "# Fill or drop NaN. Are the number of objects zero for these? \n",
    "df_seq.fillna(value=0, axis=0, inplace=True)\n",
    "filtered_labels = df_seq.loc[:, 'Label']\n",
    "    \n",
    "df_seq = df_seq.drop(columns=['Label'])\n",
    "# Keep df_result untouched for later use\n",
    "#df_result.count()   \n",
    "#df_data['Carcass Dist'] = df_data['Carcass Dist'].astype('category')\n",
    "#df_data['Carcass Size'] = df_data['Carcass Size'].astype('category')\n",
    "#df_data['Obscuring Plants'] = df_data['Obscuring Plants'].astype('category')\n"
   ]
  },
  {
   "cell_type": "code",
   "execution_count": 6,
   "metadata": {},
   "outputs": [
    {
     "name": "stdout",
     "output_type": "stream",
     "text": [
      "Scaling the features. This needs to be the same as scaling done to train the model.\n",
      "(48330, 6)\n",
      "[[-0.76997622  1.11013625 -0.89851598 -0.49003223 -0.97633955  0.05892237]\n",
      " [-0.76997622  1.11013625  1.18513055 -0.29904624  0.68061259  0.31005128]\n",
      " [-0.76997622  1.11013625 -0.89851598 -0.49003223 -0.97633955  0.05892237]\n",
      " [-0.76997622  1.11013625 -0.37760435 -0.33899362  3.21073037 -1.67107681]\n",
      " [-0.76997622  1.11013625  2.22695382  0.09211725  0.16840124  0.17053522]]\n"
     ]
    }
   ],
   "source": [
    "#Normalize features\n",
    "#Normalizer(), MaxAbsScaler(), MinMaxScaler(), KernelCenterer(), and StandardScaler()\n",
    "do_Scaling = True\n",
    "if do_Scaling == True:\n",
    "    print(\"Scaling the features. This needs to be the same as scaling done to train the model.\")\n",
    "    #pre_proc = preprocessing.MinMaxScaler()\n",
    "    pre_proc = preprocessing.StandardScaler()\n",
    "    #pre_proc = preprocessing.RobustScaler()\n",
    "    #pre_proc = preprocessing.Normalizer()\n",
    "    pre_proc.fit(df_seq)\n",
    "    data_scaled = pre_proc.transform(df_seq)\n",
    "\n",
    "print(data_scaled.shape)\n",
    "print(data_scaled[0:5])\n"
   ]
  },
  {
   "cell_type": "code",
   "execution_count": 7,
   "metadata": {},
   "outputs": [],
   "source": [
    "label_predicted = clf.predict(data_scaled)\n",
    "df_label_predicted = pd.DataFrame(data=label_predicted, columns=['Predicted Label'])\n",
    "#May need to concat the predicted labels with df_seq then do the left join with the original data    \n",
    "# this won't work if rows have been dropped\n",
    "#df_final = pd.merge(df_data, df_label_predicted, how='left',left_index=True, right_index=True)  # not used\n"
   ]
  },
  {
   "cell_type": "code",
   "execution_count": 8,
   "metadata": {
    "scrolled": true
   },
   "outputs": [
    {
     "name": "stdout",
     "output_type": "stream",
     "text": [
      "Average precision-recall score: 0.90\n"
     ]
    },
    {
     "data": {
      "image/png": "[encoded data removed]",
      "text/plain": [
       "<matplotlib.figure.Figure at 0x1f9ba26dda0>"
      ]
     },
     "metadata": {},
     "output_type": "display_data"
    }
   ],
   "source": [
    "average_precision = average_precision_score(filtered_labels, label_predicted)\n",
    "\n",
    "print('Average precision-recall score: {0:0.2f}'.format(\n",
    "      average_precision))\n",
    "\n",
    "precision, recall, _ = precision_recall_curve(filtered_labels, label_predicted)\n",
    "\n",
    "plt.step(recall, precision, color='b', alpha=0.2,\n",
    "         where='post')\n",
    "plt.fill_between(recall, precision, step='post', alpha=0.2,\n",
    "                 color='b')\n",
    "\n",
    "plt.xlabel('Recall')\n",
    "plt.ylabel('Precision')\n",
    "plt.ylim([0.0, 1.0])\n",
    "plt.xlim([0.0, 1.0])\n",
    "plt.title('2-class Precision-Recall curve: AUC={0:0.2f}'.format(\n",
    "          average_precision))\n",
    "plt.show()"
   ]
  },
  {
   "cell_type": "code",
   "execution_count": 9,
   "metadata": {},
   "outputs": [
    {
     "name": "stdout",
     "output_type": "stream",
     "text": [
      "Accuracy Score\n",
      "0.9876681150424167\n",
      "\n",
      "Confusion Matrix\n",
      "[[43054    31]\n",
      " [  565  4680]]\n",
      "\n",
      "Classification Report\n",
      "             precision    recall  f1-score   support\n",
      "\n",
      "          0       0.99      1.00      0.99     43085\n",
      "          1       0.99      0.89      0.94      5245\n",
      "\n",
      "avg / total       0.99      0.99      0.99     48330\n",
      "\n"
     ]
    }
   ],
   "source": [
    "\n",
    "print(\"Accuracy Score\")\n",
    "print (accuracy_score(filtered_labels, label_predicted))\n",
    "print(\"\\nConfusion Matrix\")\n",
    "print(confusion_matrix(filtered_labels, label_predicted))    # tn, fp, fn, tp \n",
    "print(\"\\nClassification Report\")\n",
    "print(classification_report(filtered_labels, label_predicted)) \n",
    "\n"
   ]
  },
  {
   "cell_type": "code",
   "execution_count": null,
   "metadata": {},
   "outputs": [],
   "source": [
    "# need to pickle to model to a file\n",
    "print(\"!!!! Add code to pickle model clf to file\")    "
   ]
  },
  {
   "cell_type": "code",
   "execution_count": null,
   "metadata": {},
   "outputs": [],
   "source": [
    "# works with PCA for 2 components\n",
    "#plotDecisionBoundary(model, data_test, label_test)"
   ]
  },
  {
   "cell_type": "code",
   "execution_count": null,
   "metadata": {},
   "outputs": [],
   "source": [
    "#df_competition.count()\n",
    "#label_predicted_competition = model.predict(df_competition)\n",
    "\n"
   ]
  },
  {
   "cell_type": "code",
   "execution_count": null,
   "metadata": {},
   "outputs": [],
   "source": [
    "do_merge = False\n",
    "if do_merge :\n",
    "    #df_competition_labels=pd.DataFrame(data=np.zeros(num), columns=['income'])\n",
    "    df_label_predicted_competition = pd.DataFrame(data=label_predicted_competition, columns=['income'])\n",
    "    #print df_label_predicted_competition.head(2)\n",
    "    tmp_competition = pd.DataFrame(data=df_competition)\n",
    "\n",
    "    print df_competition_labels.head()\n",
    "    #tmp_indexes = df_competition.index.get_values()\n",
    "    tmp_indexes = df_competition_labels.index.get_values()\n",
    "    print tmp_indexes[0:5]\n",
    "    #df_final = pd.merge(df_competition_labels, df_tmp, how='left',left_index=True, right_index=True) \n",
    "    #df_competition_labels \n",
    "    df_tmp = pd.DataFrame(data=label_predicted_competition,index=tmp_indexes, columns=['income'])\n",
    "\n",
    "    df_final = pd.merge(df_competition_labels, df_tmp, how='left',left_index=True, right_index=True) \n",
    "            #on=None, left_on=None, right_on=None,\n",
    "            # left_index=False, right_index=False, sort=True,\n",
    "            # suffixes=('_x', '_y'), copy=True, indicator=False)\n",
    "    df_final.head(45)"
   ]
  },
  {
   "cell_type": "code",
   "execution_count": null,
   "metadata": {
    "scrolled": false
   },
   "outputs": [],
   "source": [
    "#write out the CSV file with predicted labels\n",
    "#output_file='C:/Users/smith/Documents/Becky/Capstone/predicted_labels.csv'\n",
    "\n",
    "#df_label_predicted = pd.DataFrame(label_predicted)\n",
    "#df_label_predicted = pd.DataFrame(\n",
    "#              data=label_predicted_competition[1:],    # values\n",
    "#              #index=['row_id'],    # 1st column as index\n",
    "#              columns=['income']).copy() \n",
    "#df_final.to_csv(output_file, sep=',', columns=['row_id','income_y'],header=['row_id','income'], index=False)  #, index=True, index_label=['row_id'])\n",
    "#df_final.head()\n"
   ]
  },
  {
   "cell_type": "code",
   "execution_count": null,
   "metadata": {},
   "outputs": [],
   "source": []
  }
 ],
 "metadata": {
  "kernelspec": {
   "display_name": "Python 3",
   "language": "python",
   "name": "python3"
  },
  "language_info": {
   "codemirror_mode": {
    "name": "ipython",
    "version": 3
   },
   "file_extension": ".py",
   "mimetype": "text/x-python",
   "name": "python",
   "nbconvert_exporter": "python",
   "pygments_lexer": "ipython3",
   "version": "3.6.4"
  }
 },
 "nbformat": 4,
 "nbformat_minor": 2
}
