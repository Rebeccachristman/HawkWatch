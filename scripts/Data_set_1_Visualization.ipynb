{
 "cells": [
  {
   "cell_type": "code",
   "execution_count": 22,
   "metadata": {},
   "outputs": [],
   "source": [
    "import pandas as pd\n",
    "import numpy as np\n",
    "\n",
    "from datetime import timedelta\n",
    "import matplotlib.pyplot as plt\n",
    "import matplotlib\n",
    "from sklearn import preprocessing\n",
    "from pandas.plotting import scatter_matrix\n",
    "\n",
    "matplotlib.style.use('ggplot') # Look Pretty"
   ]
  },
  {
   "cell_type": "code",
   "execution_count": 46,
   "metadata": {},
   "outputs": [
    {
     "data": {
      "text/html": [
       "<div>\n",
       "<style scoped>\n",
       "    .dataframe tbody tr th:only-of-type {\n",
       "        vertical-align: middle;\n",
       "    }\n",
       "\n",
       "    .dataframe tbody tr th {\n",
       "        vertical-align: top;\n",
       "    }\n",
       "\n",
       "    .dataframe thead th {\n",
       "        text-align: right;\n",
       "    }\n",
       "</style>\n",
       "<table border=\"1\" class=\"dataframe\">\n",
       "  <thead>\n",
       "    <tr style=\"text-align: right;\">\n",
       "      <th></th>\n",
       "      <th>Datetime</th>\n",
       "      <th>Camera</th>\n",
       "      <th>Night</th>\n",
       "      <th>Label</th>\n",
       "    </tr>\n",
       "  </thead>\n",
       "  <tbody>\n",
       "    <tr>\n",
       "      <th>0</th>\n",
       "      <td>2016:11:11 17:00:34</td>\n",
       "      <td>CAM74</td>\n",
       "      <td>0</td>\n",
       "      <td>0</td>\n",
       "    </tr>\n",
       "    <tr>\n",
       "      <th>1</th>\n",
       "      <td>2016:11:11 17:00:36</td>\n",
       "      <td>CAM74</td>\n",
       "      <td>0</td>\n",
       "      <td>0</td>\n",
       "    </tr>\n",
       "    <tr>\n",
       "      <th>2</th>\n",
       "      <td>2016:11:11 17:00:37</td>\n",
       "      <td>CAM74</td>\n",
       "      <td>0</td>\n",
       "      <td>0</td>\n",
       "    </tr>\n",
       "    <tr>\n",
       "      <th>3</th>\n",
       "      <td>2016:11:11 17:00:41</td>\n",
       "      <td>CAM74</td>\n",
       "      <td>0</td>\n",
       "      <td>0</td>\n",
       "    </tr>\n",
       "    <tr>\n",
       "      <th>4</th>\n",
       "      <td>2016:11:11 17:00:44</td>\n",
       "      <td>CAM74</td>\n",
       "      <td>0</td>\n",
       "      <td>0</td>\n",
       "    </tr>\n",
       "  </tbody>\n",
       "</table>\n",
       "</div>"
      ],
      "text/plain": [
       "              Datetime Camera  Night  Label\n",
       "0  2016:11:11 17:00:34  CAM74      0      0\n",
       "1  2016:11:11 17:00:36  CAM74      0      0\n",
       "2  2016:11:11 17:00:37  CAM74      0      0\n",
       "3  2016:11:11 17:00:41  CAM74      0      0\n",
       "4  2016:11:11 17:00:44  CAM74      0      0"
      ]
     },
     "execution_count": 46,
     "metadata": {},
     "output_type": "execute_result"
    }
   ],
   "source": [
    "filename='C:/Users/smith/Documents/Becky/HawkWatch/Scripts/label_output_set_1.csv'\n",
    "df_label=pd.read_csv(filename, sep=',', header=0)\n",
    "df_label  = df_label[ (df_label['Night'] != 1)]\n",
    "df_label = df_label.drop(columns=['File', 'Dir', 'SeqNum', 'SeqLen'])\n",
    "df_label.head()"
   ]
  },
  {
   "cell_type": "code",
   "execution_count": 47,
   "metadata": {},
   "outputs": [
    {
     "data": {
      "text/html": [
       "<div>\n",
       "<style scoped>\n",
       "    .dataframe tbody tr th:only-of-type {\n",
       "        vertical-align: middle;\n",
       "    }\n",
       "\n",
       "    .dataframe tbody tr th {\n",
       "        vertical-align: top;\n",
       "    }\n",
       "\n",
       "    .dataframe thead th {\n",
       "        text-align: right;\n",
       "    }\n",
       "</style>\n",
       "<table border=\"1\" class=\"dataframe\">\n",
       "  <thead>\n",
       "    <tr style=\"text-align: right;\">\n",
       "      <th></th>\n",
       "      <th>Datetime</th>\n",
       "      <th>Camera</th>\n",
       "      <th>SeqNum</th>\n",
       "      <th>SeqLen</th>\n",
       "      <th>Night</th>\n",
       "      <th>Mean</th>\n",
       "      <th>Std</th>\n",
       "      <th>NumObj</th>\n",
       "    </tr>\n",
       "  </thead>\n",
       "  <tbody>\n",
       "    <tr>\n",
       "      <th>0</th>\n",
       "      <td>2016:11:11 17:00:34</td>\n",
       "      <td>CAM74</td>\n",
       "      <td>1.0</td>\n",
       "      <td>3.0</td>\n",
       "      <td>0.0</td>\n",
       "      <td>81.74</td>\n",
       "      <td>75.94</td>\n",
       "      <td>12.0</td>\n",
       "    </tr>\n",
       "    <tr>\n",
       "      <th>13</th>\n",
       "      <td>2016:11:11 17:00:36</td>\n",
       "      <td>CAM74</td>\n",
       "      <td>2.0</td>\n",
       "      <td>3.0</td>\n",
       "      <td>0.0</td>\n",
       "      <td>107.93</td>\n",
       "      <td>75.32</td>\n",
       "      <td>2.0</td>\n",
       "    </tr>\n",
       "    <tr>\n",
       "      <th>16</th>\n",
       "      <td>2016:11:11 17:00:37</td>\n",
       "      <td>CAM74</td>\n",
       "      <td>3.0</td>\n",
       "      <td>3.0</td>\n",
       "      <td>0.0</td>\n",
       "      <td>104.41</td>\n",
       "      <td>75.46</td>\n",
       "      <td>4.0</td>\n",
       "    </tr>\n",
       "    <tr>\n",
       "      <th>21</th>\n",
       "      <td>2016:11:11 17:00:41</td>\n",
       "      <td>CAM74</td>\n",
       "      <td>1.0</td>\n",
       "      <td>3.0</td>\n",
       "      <td>0.0</td>\n",
       "      <td>47.87</td>\n",
       "      <td>65.85</td>\n",
       "      <td>3.0</td>\n",
       "    </tr>\n",
       "    <tr>\n",
       "      <th>25</th>\n",
       "      <td>2016:11:11 17:00:44</td>\n",
       "      <td>CAM74</td>\n",
       "      <td>2.0</td>\n",
       "      <td>3.0</td>\n",
       "      <td>0.0</td>\n",
       "      <td>23.58</td>\n",
       "      <td>46.08</td>\n",
       "      <td>6.0</td>\n",
       "    </tr>\n",
       "  </tbody>\n",
       "</table>\n",
       "</div>"
      ],
      "text/plain": [
       "               Datetime Camera  SeqNum  SeqLen  Night    Mean    Std  NumObj\n",
       "0   2016:11:11 17:00:34  CAM74     1.0     3.0    0.0   81.74  75.94    12.0\n",
       "13  2016:11:11 17:00:36  CAM74     2.0     3.0    0.0  107.93  75.32     2.0\n",
       "16  2016:11:11 17:00:37  CAM74     3.0     3.0    0.0  104.41  75.46     4.0\n",
       "21  2016:11:11 17:00:41  CAM74     1.0     3.0    0.0   47.87  65.85     3.0\n",
       "25  2016:11:11 17:00:44  CAM74     2.0     3.0    0.0   23.58  46.08     6.0"
      ]
     },
     "execution_count": 47,
     "metadata": {},
     "output_type": "execute_result"
    }
   ],
   "source": [
    "filename='C:/Users/smith/Documents/Becky/HawkWatch/Scripts/sequence_out_set_1.csv'\n",
    "df_data=pd.read_csv(filename, sep=',', header=0)\n",
    "# split the data set into the header record with DistRank=0 and closest object record with DistRank=1\n",
    "df_header  = df_data[(df_data['DistRank'] == 0) & (df_data['Night'] != 1)]\n",
    "df_header = df_header.drop(columns=['File', 'Dir', 'SeqNumDiff', 'TopCrop', 'BottomCrop', 'Deer_X', 'Deer_Y', 'Size', 'X', 'Y', 'DistRank', 'Dist', 'Angle'])\n",
    "df_header.head()\n"
   ]
  },
  {
   "cell_type": "code",
   "execution_count": 48,
   "metadata": {},
   "outputs": [
    {
     "data": {
      "text/html": [
       "<div>\n",
       "<style scoped>\n",
       "    .dataframe tbody tr th:only-of-type {\n",
       "        vertical-align: middle;\n",
       "    }\n",
       "\n",
       "    .dataframe tbody tr th {\n",
       "        vertical-align: top;\n",
       "    }\n",
       "\n",
       "    .dataframe thead th {\n",
       "        text-align: right;\n",
       "    }\n",
       "</style>\n",
       "<table border=\"1\" class=\"dataframe\">\n",
       "  <thead>\n",
       "    <tr style=\"text-align: right;\">\n",
       "      <th></th>\n",
       "      <th>Datetime</th>\n",
       "      <th>Camera</th>\n",
       "      <th>Size</th>\n",
       "      <th>X</th>\n",
       "      <th>Y</th>\n",
       "      <th>Dist</th>\n",
       "      <th>Angle</th>\n",
       "    </tr>\n",
       "  </thead>\n",
       "  <tbody>\n",
       "    <tr>\n",
       "      <th>3</th>\n",
       "      <td>2016:11:11 17:00:34</td>\n",
       "      <td>CAM74</td>\n",
       "      <td>272629.0</td>\n",
       "      <td>812.0</td>\n",
       "      <td>812.0</td>\n",
       "      <td>203.0</td>\n",
       "      <td>-80.0</td>\n",
       "    </tr>\n",
       "    <tr>\n",
       "      <th>15</th>\n",
       "      <td>2016:11:11 17:00:36</td>\n",
       "      <td>CAM74</td>\n",
       "      <td>11053.0</td>\n",
       "      <td>967.0</td>\n",
       "      <td>967.0</td>\n",
       "      <td>380.0</td>\n",
       "      <td>71.0</td>\n",
       "    </tr>\n",
       "    <tr>\n",
       "      <th>20</th>\n",
       "      <td>2016:11:11 17:00:37</td>\n",
       "      <td>CAM74</td>\n",
       "      <td>12951.0</td>\n",
       "      <td>1013.0</td>\n",
       "      <td>1013.0</td>\n",
       "      <td>196.0</td>\n",
       "      <td>-31.0</td>\n",
       "    </tr>\n",
       "    <tr>\n",
       "      <th>22</th>\n",
       "      <td>2016:11:11 17:00:41</td>\n",
       "      <td>CAM74</td>\n",
       "      <td>638040.0</td>\n",
       "      <td>1204.0</td>\n",
       "      <td>1204.0</td>\n",
       "      <td>380.0</td>\n",
       "      <td>-19.0</td>\n",
       "    </tr>\n",
       "    <tr>\n",
       "      <th>29</th>\n",
       "      <td>2016:11:11 17:00:44</td>\n",
       "      <td>CAM74</td>\n",
       "      <td>15708.0</td>\n",
       "      <td>1116.0</td>\n",
       "      <td>1116.0</td>\n",
       "      <td>453.0</td>\n",
       "      <td>-53.0</td>\n",
       "    </tr>\n",
       "  </tbody>\n",
       "</table>\n",
       "</div>"
      ],
      "text/plain": [
       "               Datetime Camera      Size       X       Y   Dist  Angle\n",
       "3   2016:11:11 17:00:34  CAM74  272629.0   812.0   812.0  203.0  -80.0\n",
       "15  2016:11:11 17:00:36  CAM74   11053.0   967.0   967.0  380.0   71.0\n",
       "20  2016:11:11 17:00:37  CAM74   12951.0  1013.0  1013.0  196.0  -31.0\n",
       "22  2016:11:11 17:00:41  CAM74  638040.0  1204.0  1204.0  380.0  -19.0\n",
       "29  2016:11:11 17:00:44  CAM74   15708.0  1116.0  1116.0  453.0  -53.0"
      ]
     },
     "execution_count": 48,
     "metadata": {},
     "output_type": "execute_result"
    }
   ],
   "source": [
    "df_closest = df_data[(df_data['DistRank'] == 1)]\n",
    "df_closest = df_closest.drop(columns=['File', 'Dir', 'SeqNum', 'SeqLen', 'Night', 'Mean', 'Std', 'NumObj', 'DistRank','SeqNumDiff', 'TopCrop', 'BottomCrop', 'Deer_X', 'Deer_Y'])\n",
    "df_closest.head()"
   ]
  },
  {
   "cell_type": "code",
   "execution_count": 49,
   "metadata": {},
   "outputs": [
    {
     "data": {
      "text/html": [
       "<div>\n",
       "<style scoped>\n",
       "    .dataframe tbody tr th:only-of-type {\n",
       "        vertical-align: middle;\n",
       "    }\n",
       "\n",
       "    .dataframe tbody tr th {\n",
       "        vertical-align: top;\n",
       "    }\n",
       "\n",
       "    .dataframe thead th {\n",
       "        text-align: right;\n",
       "    }\n",
       "</style>\n",
       "<table border=\"1\" class=\"dataframe\">\n",
       "  <thead>\n",
       "    <tr style=\"text-align: right;\">\n",
       "      <th></th>\n",
       "      <th>Datetime</th>\n",
       "      <th>Camera</th>\n",
       "      <th>SeqNum</th>\n",
       "      <th>SeqLen</th>\n",
       "      <th>Night_x</th>\n",
       "      <th>Mean</th>\n",
       "      <th>Std</th>\n",
       "      <th>NumObj</th>\n",
       "      <th>Night_y</th>\n",
       "      <th>Label</th>\n",
       "      <th>Size</th>\n",
       "      <th>X</th>\n",
       "      <th>Y</th>\n",
       "      <th>Dist</th>\n",
       "      <th>Angle</th>\n",
       "    </tr>\n",
       "  </thead>\n",
       "  <tbody>\n",
       "    <tr>\n",
       "      <th>0</th>\n",
       "      <td>2016:11:11 17:00:34</td>\n",
       "      <td>CAM74</td>\n",
       "      <td>1.0</td>\n",
       "      <td>3.0</td>\n",
       "      <td>0.0</td>\n",
       "      <td>81.74</td>\n",
       "      <td>75.94</td>\n",
       "      <td>12.0</td>\n",
       "      <td>0</td>\n",
       "      <td>0</td>\n",
       "      <td>272629.0</td>\n",
       "      <td>812.0</td>\n",
       "      <td>812.0</td>\n",
       "      <td>203.0</td>\n",
       "      <td>-80.0</td>\n",
       "    </tr>\n",
       "    <tr>\n",
       "      <th>1</th>\n",
       "      <td>2016:11:11 17:00:36</td>\n",
       "      <td>CAM74</td>\n",
       "      <td>2.0</td>\n",
       "      <td>3.0</td>\n",
       "      <td>0.0</td>\n",
       "      <td>107.93</td>\n",
       "      <td>75.32</td>\n",
       "      <td>2.0</td>\n",
       "      <td>0</td>\n",
       "      <td>0</td>\n",
       "      <td>11053.0</td>\n",
       "      <td>967.0</td>\n",
       "      <td>967.0</td>\n",
       "      <td>380.0</td>\n",
       "      <td>71.0</td>\n",
       "    </tr>\n",
       "    <tr>\n",
       "      <th>2</th>\n",
       "      <td>2016:11:11 17:00:37</td>\n",
       "      <td>CAM74</td>\n",
       "      <td>3.0</td>\n",
       "      <td>3.0</td>\n",
       "      <td>0.0</td>\n",
       "      <td>104.41</td>\n",
       "      <td>75.46</td>\n",
       "      <td>4.0</td>\n",
       "      <td>0</td>\n",
       "      <td>0</td>\n",
       "      <td>12951.0</td>\n",
       "      <td>1013.0</td>\n",
       "      <td>1013.0</td>\n",
       "      <td>196.0</td>\n",
       "      <td>-31.0</td>\n",
       "    </tr>\n",
       "    <tr>\n",
       "      <th>3</th>\n",
       "      <td>2016:11:11 17:00:41</td>\n",
       "      <td>CAM74</td>\n",
       "      <td>1.0</td>\n",
       "      <td>3.0</td>\n",
       "      <td>0.0</td>\n",
       "      <td>47.87</td>\n",
       "      <td>65.85</td>\n",
       "      <td>3.0</td>\n",
       "      <td>0</td>\n",
       "      <td>0</td>\n",
       "      <td>638040.0</td>\n",
       "      <td>1204.0</td>\n",
       "      <td>1204.0</td>\n",
       "      <td>380.0</td>\n",
       "      <td>-19.0</td>\n",
       "    </tr>\n",
       "    <tr>\n",
       "      <th>4</th>\n",
       "      <td>2016:11:11 17:00:44</td>\n",
       "      <td>CAM74</td>\n",
       "      <td>2.0</td>\n",
       "      <td>3.0</td>\n",
       "      <td>0.0</td>\n",
       "      <td>23.58</td>\n",
       "      <td>46.08</td>\n",
       "      <td>6.0</td>\n",
       "      <td>0</td>\n",
       "      <td>0</td>\n",
       "      <td>15708.0</td>\n",
       "      <td>1116.0</td>\n",
       "      <td>1116.0</td>\n",
       "      <td>453.0</td>\n",
       "      <td>-53.0</td>\n",
       "    </tr>\n",
       "  </tbody>\n",
       "</table>\n",
       "</div>"
      ],
      "text/plain": [
       "              Datetime Camera  SeqNum  SeqLen  Night_x    Mean    Std  NumObj  \\\n",
       "0  2016:11:11 17:00:34  CAM74     1.0     3.0      0.0   81.74  75.94    12.0   \n",
       "1  2016:11:11 17:00:36  CAM74     2.0     3.0      0.0  107.93  75.32     2.0   \n",
       "2  2016:11:11 17:00:37  CAM74     3.0     3.0      0.0  104.41  75.46     4.0   \n",
       "3  2016:11:11 17:00:41  CAM74     1.0     3.0      0.0   47.87  65.85     3.0   \n",
       "4  2016:11:11 17:00:44  CAM74     2.0     3.0      0.0   23.58  46.08     6.0   \n",
       "\n",
       "   Night_y  Label      Size       X       Y   Dist  Angle  \n",
       "0        0      0  272629.0   812.0   812.0  203.0  -80.0  \n",
       "1        0      0   11053.0   967.0   967.0  380.0   71.0  \n",
       "2        0      0   12951.0  1013.0  1013.0  196.0  -31.0  \n",
       "3        0      0  638040.0  1204.0  1204.0  380.0  -19.0  \n",
       "4        0      0   15708.0  1116.0  1116.0  453.0  -53.0  "
      ]
     },
     "execution_count": 49,
     "metadata": {},
     "output_type": "execute_result"
    }
   ],
   "source": [
    "# Join df_header and df_label\n",
    "df_result = pd.merge(df_header, df_label, how='left', on=['Datetime', 'Camera'])\n",
    "df_result = pd.merge(df_result, df_closest, how='left', on=['Datetime', 'Camera'])\n",
    "df_result.head()"
   ]
  },
  {
   "cell_type": "code",
   "execution_count": 50,
   "metadata": {},
   "outputs": [],
   "source": [
    "# Fill or drop NaN. Are the number of objects zero for these? \n",
    "df_result.fillna(value=0, axis=0, inplace=True)\n"
   ]
  },
  {
   "cell_type": "code",
   "execution_count": 51,
   "metadata": {},
   "outputs": [
    {
     "data": {
      "text/html": [
       "<div>\n",
       "<style scoped>\n",
       "    .dataframe tbody tr th:only-of-type {\n",
       "        vertical-align: middle;\n",
       "    }\n",
       "\n",
       "    .dataframe tbody tr th {\n",
       "        vertical-align: top;\n",
       "    }\n",
       "\n",
       "    .dataframe thead th {\n",
       "        text-align: right;\n",
       "    }\n",
       "</style>\n",
       "<table border=\"1\" class=\"dataframe\">\n",
       "  <thead>\n",
       "    <tr style=\"text-align: right;\">\n",
       "      <th></th>\n",
       "      <th>NumObj</th>\n",
       "      <th>Label</th>\n",
       "      <th>Size</th>\n",
       "      <th>Dist</th>\n",
       "      <th>Angle</th>\n",
       "    </tr>\n",
       "  </thead>\n",
       "  <tbody>\n",
       "    <tr>\n",
       "      <th>0</th>\n",
       "      <td>12.0</td>\n",
       "      <td>0</td>\n",
       "      <td>272629.0</td>\n",
       "      <td>203.0</td>\n",
       "      <td>-80.0</td>\n",
       "    </tr>\n",
       "    <tr>\n",
       "      <th>1</th>\n",
       "      <td>2.0</td>\n",
       "      <td>0</td>\n",
       "      <td>11053.0</td>\n",
       "      <td>380.0</td>\n",
       "      <td>71.0</td>\n",
       "    </tr>\n",
       "    <tr>\n",
       "      <th>2</th>\n",
       "      <td>4.0</td>\n",
       "      <td>0</td>\n",
       "      <td>12951.0</td>\n",
       "      <td>196.0</td>\n",
       "      <td>-31.0</td>\n",
       "    </tr>\n",
       "    <tr>\n",
       "      <th>3</th>\n",
       "      <td>3.0</td>\n",
       "      <td>0</td>\n",
       "      <td>638040.0</td>\n",
       "      <td>380.0</td>\n",
       "      <td>-19.0</td>\n",
       "    </tr>\n",
       "    <tr>\n",
       "      <th>4</th>\n",
       "      <td>6.0</td>\n",
       "      <td>0</td>\n",
       "      <td>15708.0</td>\n",
       "      <td>453.0</td>\n",
       "      <td>-53.0</td>\n",
       "    </tr>\n",
       "  </tbody>\n",
       "</table>\n",
       "</div>"
      ],
      "text/plain": [
       "   NumObj  Label      Size   Dist  Angle\n",
       "0    12.0      0  272629.0  203.0  -80.0\n",
       "1     2.0      0   11053.0  380.0   71.0\n",
       "2     4.0      0   12951.0  196.0  -31.0\n",
       "3     3.0      0  638040.0  380.0  -19.0\n",
       "4     6.0      0   15708.0  453.0  -53.0"
      ]
     },
     "execution_count": 51,
     "metadata": {},
     "output_type": "execute_result"
    }
   ],
   "source": [
    "# remove non-numeric fields\n",
    "df_x = df_result.drop(columns=['Datetime', 'Camera', 'SeqNum', 'SeqLen', 'Night_x', 'Night_y', 'X', 'Y'])\n",
    "df_x = df_x.drop(columns=['Mean', 'Std'])\n",
    "#df_x.to_csv(\"photo_set_1_data.csv\", sep=',', index=False) \n",
    "#df_x = df_x.drop(columns=['Label'])\n",
    "#df_x = df_x.drop(columns=['Angle'])  # needed angle\n",
    "#df_x = df_x.drop(columns=['NumObj'])\n",
    "\n",
    "df_x.head()"
   ]
  },
  {
   "cell_type": "code",
   "execution_count": 52,
   "metadata": {},
   "outputs": [
    {
     "data": {
      "text/html": [
       "<div>\n",
       "<style scoped>\n",
       "    .dataframe tbody tr th:only-of-type {\n",
       "        vertical-align: middle;\n",
       "    }\n",
       "\n",
       "    .dataframe tbody tr th {\n",
       "        vertical-align: top;\n",
       "    }\n",
       "\n",
       "    .dataframe thead th {\n",
       "        text-align: right;\n",
       "    }\n",
       "</style>\n",
       "<table border=\"1\" class=\"dataframe\">\n",
       "  <thead>\n",
       "    <tr style=\"text-align: right;\">\n",
       "      <th></th>\n",
       "      <th>NumObj</th>\n",
       "      <th>Label</th>\n",
       "      <th>Size</th>\n",
       "      <th>Dist</th>\n",
       "      <th>Angle</th>\n",
       "    </tr>\n",
       "  </thead>\n",
       "  <tbody>\n",
       "    <tr>\n",
       "      <th>count</th>\n",
       "      <td>1574.000000</td>\n",
       "      <td>1574.000000</td>\n",
       "      <td>1574.000000</td>\n",
       "      <td>1574.000000</td>\n",
       "      <td>1574.000000</td>\n",
       "    </tr>\n",
       "    <tr>\n",
       "      <th>mean</th>\n",
       "      <td>2.646760</td>\n",
       "      <td>0.280178</td>\n",
       "      <td>71303.731893</td>\n",
       "      <td>325.597205</td>\n",
       "      <td>-10.303050</td>\n",
       "    </tr>\n",
       "    <tr>\n",
       "      <th>std</th>\n",
       "      <td>2.056667</td>\n",
       "      <td>0.449229</td>\n",
       "      <td>98913.548039</td>\n",
       "      <td>219.134381</td>\n",
       "      <td>40.309376</td>\n",
       "    </tr>\n",
       "    <tr>\n",
       "      <th>min</th>\n",
       "      <td>0.000000</td>\n",
       "      <td>0.000000</td>\n",
       "      <td>0.000000</td>\n",
       "      <td>0.000000</td>\n",
       "      <td>-90.000000</td>\n",
       "    </tr>\n",
       "    <tr>\n",
       "      <th>25%</th>\n",
       "      <td>1.000000</td>\n",
       "      <td>0.000000</td>\n",
       "      <td>14322.250000</td>\n",
       "      <td>171.250000</td>\n",
       "      <td>-37.000000</td>\n",
       "    </tr>\n",
       "    <tr>\n",
       "      <th>50%</th>\n",
       "      <td>2.000000</td>\n",
       "      <td>0.000000</td>\n",
       "      <td>43036.500000</td>\n",
       "      <td>343.000000</td>\n",
       "      <td>-20.000000</td>\n",
       "    </tr>\n",
       "    <tr>\n",
       "      <th>75%</th>\n",
       "      <td>4.000000</td>\n",
       "      <td>1.000000</td>\n",
       "      <td>89318.750000</td>\n",
       "      <td>472.000000</td>\n",
       "      <td>3.000000</td>\n",
       "    </tr>\n",
       "    <tr>\n",
       "      <th>max</th>\n",
       "      <td>15.000000</td>\n",
       "      <td>1.000000</td>\n",
       "      <td>845868.000000</td>\n",
       "      <td>1249.000000</td>\n",
       "      <td>90.000000</td>\n",
       "    </tr>\n",
       "  </tbody>\n",
       "</table>\n",
       "</div>"
      ],
      "text/plain": [
       "            NumObj        Label           Size         Dist        Angle\n",
       "count  1574.000000  1574.000000    1574.000000  1574.000000  1574.000000\n",
       "mean      2.646760     0.280178   71303.731893   325.597205   -10.303050\n",
       "std       2.056667     0.449229   98913.548039   219.134381    40.309376\n",
       "min       0.000000     0.000000       0.000000     0.000000   -90.000000\n",
       "25%       1.000000     0.000000   14322.250000   171.250000   -37.000000\n",
       "50%       2.000000     0.000000   43036.500000   343.000000   -20.000000\n",
       "75%       4.000000     1.000000   89318.750000   472.000000     3.000000\n",
       "max      15.000000     1.000000  845868.000000  1249.000000    90.000000"
      ]
     },
     "execution_count": 52,
     "metadata": {},
     "output_type": "execute_result"
    }
   ],
   "source": [
    "df_x.describe()"
   ]
  },
  {
   "cell_type": "code",
   "execution_count": 53,
   "metadata": {},
   "outputs": [
    {
     "data": {
      "image/png": "[encoded data removed]",
      "text/plain": [
       "<matplotlib.figure.Figure at 0x13562479b00>"
      ]
     },
     "metadata": {},
     "output_type": "display_data"
    }
   ],
   "source": [
    "df_x.NumObj.plot.hist()\n",
    "plt.title(\"Histogram of Number of Objects\")\n",
    "plt.show()"
   ]
  },
  {
   "cell_type": "code",
   "execution_count": 54,
   "metadata": {},
   "outputs": [
    {
     "data": {
      "image/png": "[encoded data removed]",
      "text/plain": [
       "<matplotlib.figure.Figure at 0x135624f49b0>"
      ]
     },
     "metadata": {},
     "output_type": "display_data"
    }
   ],
   "source": [
    "df_x.Label.plot.hist()\n",
    "plt.show()"
   ]
  },
  {
   "cell_type": "code",
   "execution_count": 74,
   "metadata": {},
   "outputs": [
    {
     "name": "stdout",
     "output_type": "stream",
     "text": [
      "[[ 2.03601282 -0.5596391  -1.7296001 ]\n",
      " [-0.60931876  0.24834116  2.01761716]\n",
      " [-0.59012419 -0.59159312 -0.51361569]\n",
      " [ 5.73143311  0.24834116 -0.21582359]\n",
      " [-0.5622425   0.58157595 -1.05956788]]\n"
     ]
    },
    {
     "data": {
      "text/html": [
       "<div>\n",
       "<style scoped>\n",
       "    .dataframe tbody tr th:only-of-type {\n",
       "        vertical-align: middle;\n",
       "    }\n",
       "\n",
       "    .dataframe tbody tr th {\n",
       "        vertical-align: top;\n",
       "    }\n",
       "\n",
       "    .dataframe thead th {\n",
       "        text-align: right;\n",
       "    }\n",
       "</style>\n",
       "<table border=\"1\" class=\"dataframe\">\n",
       "  <thead>\n",
       "    <tr style=\"text-align: right;\">\n",
       "      <th></th>\n",
       "      <th>Size</th>\n",
       "      <th>Dist</th>\n",
       "      <th>Angle</th>\n",
       "    </tr>\n",
       "  </thead>\n",
       "  <tbody>\n",
       "    <tr>\n",
       "      <th>0</th>\n",
       "      <td>2.036013</td>\n",
       "      <td>-0.559639</td>\n",
       "      <td>-1.729600</td>\n",
       "    </tr>\n",
       "    <tr>\n",
       "      <th>1</th>\n",
       "      <td>-0.609319</td>\n",
       "      <td>0.248341</td>\n",
       "      <td>2.017617</td>\n",
       "    </tr>\n",
       "    <tr>\n",
       "      <th>2</th>\n",
       "      <td>-0.590124</td>\n",
       "      <td>-0.591593</td>\n",
       "      <td>-0.513616</td>\n",
       "    </tr>\n",
       "    <tr>\n",
       "      <th>3</th>\n",
       "      <td>5.731433</td>\n",
       "      <td>0.248341</td>\n",
       "      <td>-0.215824</td>\n",
       "    </tr>\n",
       "    <tr>\n",
       "      <th>4</th>\n",
       "      <td>-0.562243</td>\n",
       "      <td>0.581576</td>\n",
       "      <td>-1.059568</td>\n",
       "    </tr>\n",
       "  </tbody>\n",
       "</table>\n",
       "</div>"
      ],
      "text/plain": [
       "       Size      Dist     Angle\n",
       "0  2.036013 -0.559639 -1.729600\n",
       "1 -0.609319  0.248341  2.017617\n",
       "2 -0.590124 -0.591593 -0.513616\n",
       "3  5.731433  0.248341 -0.215824\n",
       "4 -0.562243  0.581576 -1.059568"
      ]
     },
     "execution_count": 74,
     "metadata": {},
     "output_type": "execute_result"
    }
   ],
   "source": [
    "pre_proc = preprocessing.StandardScaler()\n",
    "df_tmp = df_x.loc[:, ['Size', 'Dist', 'Angle']]\n",
    "\n",
    "pre_proc.fit(df_tmp)\n",
    "np_scaled = pre_proc.transform(df_tmp)\n",
    "df_scaled = pd.DataFrame(columns=['Size', 'Dist', 'Angle'])\n",
    "df_scaled['Size'] = np_scaled[:,0]\n",
    "df_scaled['Dist'] = np_scaled[:,1]\n",
    "df_scaled['Angle'] = np_scaled[:,2]\n",
    "print(np_scaled[0:5])\n",
    "df_scaled.head()"
   ]
  },
  {
   "cell_type": "code",
   "execution_count": 75,
   "metadata": {},
   "outputs": [
    {
     "data": {
      "image/png": "[encoded data removed]",
      "text/plain": [
       "<matplotlib.figure.Figure at 0x13562345668>"
      ]
     },
     "metadata": {},
     "output_type": "display_data"
    }
   ],
   "source": [
    "df_scaled.Size.plot.hist()\n",
    "plt.show()"
   ]
  },
  {
   "cell_type": "code",
   "execution_count": 76,
   "metadata": {},
   "outputs": [
    {
     "data": {
      "image/png": "[encoded data removed]",
      "text/plain": [
       "<matplotlib.figure.Figure at 0x1356192e160>"
      ]
     },
     "metadata": {},
     "output_type": "display_data"
    }
   ],
   "source": [
    "df_scaled.Dist.plot.hist()\n",
    "plt.show()"
   ]
  },
  {
   "cell_type": "code",
   "execution_count": 77,
   "metadata": {},
   "outputs": [
    {
     "data": {
      "image/png": "[encoded data removed]",
      "text/plain": [
       "<matplotlib.figure.Figure at 0x135618b2f28>"
      ]
     },
     "metadata": {},
     "output_type": "display_data"
    }
   ],
   "source": [
    "df_scaled.Angle.plot.hist()\n",
    "plt.show()"
   ]
  },
  {
   "cell_type": "code",
   "execution_count": 78,
   "metadata": {},
   "outputs": [
    {
     "data": {
      "text/plain": [
       "-20.0"
      ]
     },
     "execution_count": 78,
     "metadata": {},
     "output_type": "execute_result"
    }
   ],
   "source": [
    "df_x.Angle.median()"
   ]
  },
  {
   "cell_type": "code",
   "execution_count": 80,
   "metadata": {},
   "outputs": [
    {
     "data": {
      "image/png": "[encoded data removed]",
      "text/plain": [
       "<matplotlib.figure.Figure at 0x135619174a8>"
      ]
     },
     "metadata": {},
     "output_type": "display_data"
    },
    {
     "name": "stdout",
     "output_type": "stream",
     "text": [
      "           Size      Dist     Angle\n",
      "Size   1.000000  0.244076 -0.054479\n",
      "Dist   0.244076  1.000000 -0.046293\n",
      "Angle -0.054479 -0.046293  1.000000\n"
     ]
    }
   ],
   "source": [
    "df_scaled.plot.scatter(x='Size', y='Dist')\n",
    "plt.show()\n",
    "print(df_scaled.corr())"
   ]
  },
  {
   "cell_type": "code",
   "execution_count": 81,
   "metadata": {},
   "outputs": [
    {
     "data": {
      "image/png": "[encoded data removed]",
      "text/plain": [
       "<matplotlib.figure.Figure at 0x13562430978>"
      ]
     },
     "metadata": {},
     "output_type": "display_data"
    },
    {
     "name": "stdout",
     "output_type": "stream",
     "text": [
      "           Size      Dist     Angle\n",
      "Size   1.000000  0.244076 -0.054479\n",
      "Dist   0.244076  1.000000 -0.046293\n",
      "Angle -0.054479 -0.046293  1.000000\n"
     ]
    }
   ],
   "source": [
    "df_scaled.plot.scatter(x='Angle', y='Dist')\n",
    "plt.show()\n",
    "print(df_scaled.corr())"
   ]
  },
  {
   "cell_type": "code",
   "execution_count": 89,
   "metadata": {},
   "outputs": [
    {
     "data": {
      "image/png": "[encoded data removed]",
      "text/plain": [
       "<matplotlib.figure.Figure at 0x13562596940>"
      ]
     },
     "metadata": {},
     "output_type": "display_data"
    }
   ],
   "source": [
    "df_tmp = pd.concat([df_scaled['Size'], df_x['Label']],axis=1)\n",
    "df_tmp.boxplot(column=['Size'], by='Label', figsize=(6,6))\n",
    "plt.show()"
   ]
  },
  {
   "cell_type": "code",
   "execution_count": 90,
   "metadata": {},
   "outputs": [
    {
     "data": {
      "image/png": "[encoded data removed]",
      "text/plain": [
       "<matplotlib.figure.Figure at 0x13562661ef0>"
      ]
     },
     "metadata": {},
     "output_type": "display_data"
    }
   ],
   "source": [
    "df_tmp = pd.concat([df_scaled['Dist'], df_x['Label']],axis=1)\n",
    "df_tmp.boxplot(column=['Dist'], by='Label', figsize=(6,6))\n",
    "plt.show()"
   ]
  },
  {
   "cell_type": "code",
   "execution_count": 91,
   "metadata": {},
   "outputs": [
    {
     "data": {
      "image/png": "[encoded data removed]",
      "text/plain": [
       "<matplotlib.figure.Figure at 0x13561917fd0>"
      ]
     },
     "metadata": {},
     "output_type": "display_data"
    }
   ],
   "source": [
    "df_tmp = pd.concat([df_scaled['Angle'], df_x['Label']],axis=1)\n",
    "df_tmp.boxplot(column=['Angle'], by='Label', figsize=(6,6))\n",
    "plt.show()"
   ]
  },
  {
   "cell_type": "code",
   "execution_count": 92,
   "metadata": {},
   "outputs": [
    {
     "data": {
      "image/png": "[encoded data removed]",
      "text/plain": [
       "<matplotlib.figure.Figure at 0x13561b17b00>"
      ]
     },
     "metadata": {},
     "output_type": "display_data"
    }
   ],
   "source": [
    "df_x.boxplot(column=['NumObj'], by='Label', figsize=(6,6))\n",
    "plt.show()"
   ]
  },
  {
   "cell_type": "code",
   "execution_count": null,
   "metadata": {
    "collapsed": true
   },
   "outputs": [],
   "source": []
  }
 ],
 "metadata": {
  "kernelspec": {
   "display_name": "Python 3",
   "language": "python",
   "name": "python3"
  },
  "language_info": {
   "codemirror_mode": {
    "name": "ipython",
    "version": 3
   },
   "file_extension": ".py",
   "mimetype": "text/x-python",
   "name": "python",
   "nbconvert_exporter": "python",
   "pygments_lexer": "ipython3",
   "version": "3.6.4"
  }
 },
 "nbformat": 4,
 "nbformat_minor": 2
}
