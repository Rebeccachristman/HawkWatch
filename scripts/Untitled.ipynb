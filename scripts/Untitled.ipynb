{
 "cells": [
  {
   "cell_type": "code",
   "execution_count": 1,
   "metadata": {},
   "outputs": [],
   "source": [
    "import pandas as pd\n",
    "import numpy as np"
   ]
  },
  {
   "cell_type": "code",
   "execution_count": null,
   "metadata": {},
   "outputs": [],
   "source": [
    "def vote_sequence(df) :\n",
    "    # Should a copy of the dataframe be made?\n",
    "    \n",
    "    # iterate over the dataframe looking at labels for each sequence\n",
    "    \n",
    "    return df :"
   ]
  },
  {
   "cell_type": "code",
   "execution_count": 2,
   "metadata": {},
   "outputs": [
    {
     "name": "stdout",
     "output_type": "stream",
     "text": [
      "Input sequence data plus Label...\n"
     ]
    }
   ],
   "source": [
    "filename='C:/Users/smith/Documents/Becky/HawkWatch/data/tmp_labeled_data.csv'\n",
    "\n",
    "df_data = pd.read_csv(filename, sep=',', header=0)\n",
    "df_seq = df_data.drop(columns=['SeqNumDiff', 'TopCrop', 'BottomCrop', 'Carcass X', 'Carcass Y', 'X', 'Y', 'DistRank'])\n",
    "#df_seq = df_seq.drop(columns=['Carcass Size'])\n",
    "\n",
    "print(\"Input sequence data plus Label...\")\n",
    "#print(df_seq.head())"
   ]
  },
  {
   "cell_type": "code",
   "execution_count": 3,
   "metadata": {},
   "outputs": [
    {
     "name": "stdout",
     "output_type": "stream",
     "text": [
      "Input sequence data plus Label...\n"
     ]
    }
   ],
   "source": [
    "filename='C:/Users/smith/Documents/Becky/HawkWatch/data/hwi_auto_classify_out.csv'\n",
    "\n",
    "df_auto = pd.read_csv(filename, sep=',', header=0)\n",
    "#df_auto_seq = df_data.drop(columns=['File', 'Dir', 'Datetime', 'Camera', 'SeqNum', 'SeqLen', 'SeqNumDiff', 'Night', 'Mean', 'Std', 'TopCrop', 'BottomCrop', 'Carcass X', 'Carcass Y', 'X', 'Y', 'DistRank'])\n",
    "#df_seq = df_seq.drop(columns=['Carcass Size'])\n",
    "\n",
    "print(\"Input sequence data plus Label...\")\n",
    "df_auto = df_auto.rename({'Label_x':'Label_manual', 'Label_y':'Label_pred'}, axis='columns')\n",
    "#print(df_auto.head())"
   ]
  },
  {
   "cell_type": "code",
   "execution_count": null,
   "metadata": {},
   "outputs": [],
   "source": [
    "df_auto = vote_sequence(df_auto)"
   ]
  },
  {
   "cell_type": "code",
   "execution_count": null,
   "metadata": {},
   "outputs": [],
   "source": [
    "df_diff = df_auto[df_auto.Label_manual != df_auto.Label_pred]\n",
    "print(df_diff.head())"
   ]
  },
  {
   "cell_type": "code",
   "execution_count": null,
   "metadata": {},
   "outputs": [],
   "source": []
  },
  {
   "cell_type": "code",
   "execution_count": 4,
   "metadata": {},
   "outputs": [
    {
     "name": "stdout",
     "output_type": "stream",
     "text": [
      "             File                                                Dir  \\\n",
      "126  IMG_0127.JPG  E:\\Trail_Cameras\\Utah\\2016-2017\\Cam272_102716_...   \n",
      "140  IMG_0141.JPG  E:\\Trail_Cameras\\Utah\\2016-2017\\Cam272_102716_...   \n",
      "144  IMG_0145.JPG  E:\\Trail_Cameras\\Utah\\2016-2017\\Cam272_102716_...   \n",
      "151  IMG_0152.JPG  E:\\Trail_Cameras\\Utah\\2016-2017\\Cam272_102716_...   \n",
      "157  IMG_0158.JPG  E:\\Trail_Cameras\\Utah\\2016-2017\\Cam272_102716_...   \n",
      "\n",
      "                Datetime  Camera  SeqNum  SeqLen SeqNumDiff  Night   Mean  \\\n",
      "126  2016:11:07 08:25:15  CAM272       1       3        1|0      0  24.52   \n",
      "140  2016:11:07 14:41:00  CAM272       3       3        0|2      0  24.46   \n",
      "144  2016:11:07 14:41:19  CAM272       1       3        1|0      0  38.07   \n",
      "151  2016:11:07 14:41:27  CAM272       2       3        2|1      0  34.90   \n",
      "157  2016:11:07 14:41:45  CAM272       2       3        2|1      0  28.02   \n",
      "\n",
      "       Std     ...      Obscuring Plants  NumObj  DistRank      Size       X  \\\n",
      "126  44.36     ...                   3.0     1.0       1.0  282502.0   436.0   \n",
      "140  41.69     ...                   3.0     3.0       1.0   14989.0   648.0   \n",
      "144  54.00     ...                   3.0     2.0       1.0   10993.0  1040.0   \n",
      "151  51.39     ...                   3.0     2.0       1.0  166671.0   844.0   \n",
      "157  45.11     ...                   3.0     2.0       1.0   22824.0  1136.0   \n",
      "\n",
      "          Y   Dist  Angle  Label_manual  Label_pred  \n",
      "126   936.0  379.0  -55.0             0           1  \n",
      "140  1283.0   33.0   87.0             1           0  \n",
      "144  1309.0  395.0   -8.0             1           0  \n",
      "151  1235.0  195.0    4.0             1           0  \n",
      "157  1268.0  486.0   -2.0             1           0  \n",
      "\n",
      "[5 rows x 26 columns]\n"
     ]
    }
   ],
   "source": [
    "csvout = 'C:/Users/smith/Documents/Becky/HawkWatch/data/label_diff.csv'\n",
    "df_diff.to_csv(csvout, sep=',', index=False)"
   ]
  },
  {
   "cell_type": "code",
   "execution_count": null,
   "metadata": {},
   "outputs": [],
   "source": []
  }
 ],
 "metadata": {
  "kernelspec": {
   "display_name": "Python 3",
   "language": "python",
   "name": "python3"
  },
  "language_info": {
   "codemirror_mode": {
    "name": "ipython",
    "version": 3
   },
   "file_extension": ".py",
   "mimetype": "text/x-python",
   "name": "python",
   "nbconvert_exporter": "python",
   "pygments_lexer": "ipython3",
   "version": "3.6.4"
  }
 },
 "nbformat": 4,
 "nbformat_minor": 2
}
